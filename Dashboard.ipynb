{
 "cells": [
  {
   "cell_type": "code",
   "execution_count": 1,
   "id": "a5303028-c789-477f-97a4-f809d0341b91",
   "metadata": {},
   "outputs": [
    {
     "data": {
      "text/html": [
       "\n",
       "        <iframe\n",
       "            width=\"100%\"\n",
       "            height=\"650\"\n",
       "            src=\"http://127.0.0.1:8050/\"\n",
       "            frameborder=\"0\"\n",
       "            allowfullscreen\n",
       "            \n",
       "        ></iframe>\n",
       "        "
      ],
      "text/plain": [
       "<IPython.lib.display.IFrame at 0x1ac7b9c8ce0>"
      ]
     },
     "metadata": {},
     "output_type": "display_data"
    },
    {
     "name": "stdout",
     "output_type": "stream",
     "text": [
      "Selected Feature: age_mother\n",
      "Selected Feature: region\n",
      "Selected Feature: mother_educ\n",
      "Selected Feature: religion\n",
      "Selected Feature: age_head\n",
      "Selected Feature: sex_child\n"
     ]
    }
   ],
   "source": [
    "import pandas as pd\n",
    "import dash\n",
    "from dash import dcc\n",
    "from dash import html\n",
    "import plotly.express as px\n",
    "\n",
    "# Load the DHS data\n",
    "data = pd.read_csv(\"EDHS2019.csv\")\n",
    "\n",
    "# Define features and target variable\n",
    "features = ['age_mother', 'region', 'mother_educ', 'electricity', 'religion', 'num_under5_children', 'sex_head',\n",
    "            'age_head', 'wealth_index', 'birth_order', 'sex_child', 'age_child_months', 'rural', 'head_fem', \n",
    "            'wealth_indexi', 'child_fem']\n",
    "target = 'Vitamin_A'\n",
    "\n",
    "# Create Dash app\n",
    "app = dash.Dash(__name__)\n",
    "\n",
    "# Define app layout\n",
    "app.layout = html.Div([\n",
    "    html.H1(\"Child Vitamin A Status in Ethiopia (EDHS 2019)\"),\n",
    "\n",
    "    # Row for side-by-side dropdowns\n",
    "    html.Div([\n",
    "        html.Label('Select Feature:'),\n",
    "        dcc.Dropdown(\n",
    "            id='feature-dropdown',\n",
    "            options=[{'label': col, 'value': col} for col in features],\n",
    "            value=features[0]  # Default to first feature\n",
    "        ),\n",
    "    ], style={'width': '50%', 'display': 'inline-block'}),\n",
    "\n",
    "    # Graph to display the visualization\n",
    "    dcc.Graph(id='feature-graph')\n",
    "])\n",
    "\n",
    "# Define callback function to update graph based on dropdown selection\n",
    "@app.callback(\n",
    "    dash.Output('feature-graph', 'figure'),\n",
    "    [dash.Input('feature-dropdown', 'value')]\n",
    ")\n",
    "def update_graph(selected_feature):\n",
    "    # Debugging print\n",
    "    print(f\"Selected Feature: {selected_feature}\")\n",
    "\n",
    "    if selected_feature not in data.columns:\n",
    "        return px.scatter(title=\"Feature not found!\")\n",
    "\n",
    "    if data[selected_feature].dtype in ['int64', 'float64']:\n",
    "        fig = px.histogram(data, x=selected_feature, color=target,\n",
    "                           title=f\"Distribution of {selected_feature} by {target}\")\n",
    "    else:\n",
    "        fig = px.bar(data, x=selected_feature, color=target,\n",
    "                     title=f\"{target} Status by {selected_feature}\")\n",
    "    return fig\n",
    "\n",
    "# Run the app\n",
    "if __name__ == '__main__':\n",
    "    app.run_server(debug=True)"
   ]
  },
  {
   "cell_type": "code",
   "execution_count": null,
   "id": "f32e8b89-0187-4fd4-b01c-b8cf945ada4f",
   "metadata": {},
   "outputs": [],
   "source": []
  }
 ],
 "metadata": {
  "kernelspec": {
   "display_name": "Python 3 (ipykernel)",
   "language": "python",
   "name": "python3"
  },
  "language_info": {
   "codemirror_mode": {
    "name": "ipython",
    "version": 3
   },
   "file_extension": ".py",
   "mimetype": "text/x-python",
   "name": "python",
   "nbconvert_exporter": "python",
   "pygments_lexer": "ipython3",
   "version": "3.12.4"
  }
 },
 "nbformat": 4,
 "nbformat_minor": 5
}
